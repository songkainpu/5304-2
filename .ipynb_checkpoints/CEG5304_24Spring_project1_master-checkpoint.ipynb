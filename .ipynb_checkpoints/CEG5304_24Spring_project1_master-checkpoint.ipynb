version https://git-lfs.github.com/spec/v1
oid sha256:a74a8e2732f641f9ec2c390e157be271966ed65999542b90abf11ebb1db80afb
size 50222
